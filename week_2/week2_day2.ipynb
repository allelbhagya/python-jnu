{
  "cells": [
    {
      "cell_type": "markdown",
      "metadata": {
        "id": "eR9O-oHejf4l"
      },
      "source": [
        "concept of indexing\n"
      ]
    },
    {
      "cell_type": "code",
      "execution_count": null,
      "metadata": {
        "colab": {
          "base_uri": "https://localhost:8080/"
        },
        "id": "I9avUlrZjcAw",
        "outputId": "64da054b-78b2-43c5-8ce7-87b30531549b"
      },
      "outputs": [
        {
          "name": "stdout",
          "output_type": "stream",
          "text": [
            "1\n"
          ]
        }
      ],
      "source": [
        "list_example = [1,2,3]\n",
        "print(list_example[0])"
      ]
    },
    {
      "cell_type": "code",
      "execution_count": null,
      "metadata": {
        "colab": {
          "base_uri": "https://localhost:8080/"
        },
        "id": "SjjKwPLYjqTS",
        "outputId": "605064e2-1b84-4502-f418-578f7972d572"
      },
      "outputs": [
        {
          "name": "stdout",
          "output_type": "stream",
          "text": [
            "[1, 2, 3, 'bhagya']\n"
          ]
        }
      ],
      "source": [
        "list_example.append(\"bhagya\")\n",
        "print(list_example)"
      ]
    },
    {
      "cell_type": "code",
      "execution_count": null,
      "metadata": {
        "colab": {
          "base_uri": "https://localhost:8080/"
        },
        "id": "W26DmqcwjwEv",
        "outputId": "55290d3e-e21e-41b5-b566-3e645c79290a"
      },
      "outputs": [
        {
          "name": "stdout",
          "output_type": "stream",
          "text": [
            "[True, 1, 2, 3, 'bhagya']\n"
          ]
        }
      ],
      "source": [
        "list_example.insert(0,True)\n",
        "print(list_example)"
      ]
    },
    {
      "cell_type": "code",
      "execution_count": null,
      "metadata": {
        "colab": {
          "base_uri": "https://localhost:8080/"
        },
        "id": "p0Fyl_Jdj1MX",
        "outputId": "077c50a3-aa87-42e6-f3e9-c6f817402f07"
      },
      "outputs": [
        {
          "name": "stdout",
          "output_type": "stream",
          "text": [
            "[1, 2, 3, 'bhagya']\n"
          ]
        }
      ],
      "source": [
        "list_example.pop(0)\n",
        "print(list_example)"
      ]
    },
    {
      "cell_type": "markdown",
      "metadata": {
        "id": "bbh851EdoNBc"
      },
      "source": [
        "extended functions for list\n",
        "\n",
        "- copy()\n",
        "- extend()\n",
        "- count()\n",
        "- index()\n",
        "- insert()\n",
        "- pop()\n",
        "- remove()\n",
        "- reverse()\n",
        "- sort()\n"
      ]
    },
    {
      "cell_type": "markdown",
      "metadata": {
        "id": "oXC8ZE9uj6aP"
      },
      "source": [
        "TUPLE\n",
        "\n",
        "- initialized with parenthesis\n",
        "- items are ordered\n",
        "- duplicates are allowed\n",
        "- CANNOT modify data items\n"
      ]
    },
    {
      "cell_type": "code",
      "execution_count": 1,
      "metadata": {
        "colab": {
          "base_uri": "https://localhost:8080/"
        },
        "id": "1Ma4L6roj7EJ",
        "outputId": "51d43a52-f5ce-4978-d531-f5f45d6366a4"
      },
      "outputs": [
        {
          "name": "stdout",
          "output_type": "stream",
          "text": [
            "('bhagya', 2, 50, 25, 100, 2, True)\n"
          ]
        }
      ],
      "source": [
        "my_tuple = (\"bhagya\", 2,50, 25,100,2, True)\n",
        "print(my_tuple)"
      ]
    },
    {
      "cell_type": "code",
      "execution_count": 2,
      "metadata": {},
      "outputs": [
        {
          "name": "stdout",
          "output_type": "stream",
          "text": [
            "50\n"
          ]
        }
      ],
      "source": [
        "print(my_tuple[2])"
      ]
    },
    {
      "cell_type": "code",
      "execution_count": null,
      "metadata": {
        "colab": {
          "base_uri": "https://localhost:8080/"
        },
        "id": "_rEfj69-j8yl",
        "outputId": "4b7e4d30-314b-4736-802d-8bd6a71f43c2"
      },
      "outputs": [
        {
          "name": "stdout",
          "output_type": "stream",
          "text": [
            "<class 'tuple'>\n"
          ]
        }
      ],
      "source": [
        "print(type(my_tuple))"
      ]
    },
    {
      "cell_type": "code",
      "execution_count": null,
      "metadata": {
        "colab": {
          "base_uri": "https://localhost:8080/"
        },
        "id": "34SoB03Ij_4Q",
        "outputId": "a4460038-e8c3-4fb9-9107-8d46771a18fe"
      },
      "outputs": [
        {
          "name": "stdout",
          "output_type": "stream",
          "text": [
            "2\n"
          ]
        }
      ],
      "source": [
        "print(my_tuple[1])"
      ]
    },
    {
      "cell_type": "code",
      "execution_count": null,
      "metadata": {
        "colab": {
          "base_uri": "https://localhost:8080/",
          "height": 180
        },
        "id": "IWqia8gHkJUp",
        "outputId": "366e7fa8-f3d5-46fd-9bd7-ccaab2fbf0e9"
      },
      "outputs": [
        {
          "ename": "TypeError",
          "evalue": "'tuple' object does not support item assignment",
          "output_type": "error",
          "traceback": [
            "\u001b[0;31m---------------------------------------------------------------------------\u001b[0m",
            "\u001b[0;31mTypeError\u001b[0m                                 Traceback (most recent call last)",
            "\u001b[0;32m<ipython-input-39-26d3bfd3b905>\u001b[0m in \u001b[0;36m<cell line: 1>\u001b[0;34m()\u001b[0m\n\u001b[0;32m----> 1\u001b[0;31m \u001b[0mmy_tuple\u001b[0m\u001b[0;34m[\u001b[0m\u001b[0;36m1\u001b[0m\u001b[0;34m]\u001b[0m \u001b[0;34m=\u001b[0m \u001b[0;32mFalse\u001b[0m\u001b[0;34m\u001b[0m\u001b[0;34m\u001b[0m\u001b[0m\n\u001b[0m",
            "\u001b[0;31mTypeError\u001b[0m: 'tuple' object does not support item assignment"
          ]
        }
      ],
      "source": [
        "my_tuple[1] = False"
      ]
    },
    {
      "cell_type": "code",
      "execution_count": 3,
      "metadata": {},
      "outputs": [
        {
          "name": "stdout",
          "output_type": "stream",
          "text": [
            "4\n"
          ]
        }
      ],
      "source": [
        "bhagya = [1,2,3,4]\n",
        "print(len(bhagya))"
      ]
    },
    {
      "cell_type": "code",
      "execution_count": 4,
      "metadata": {},
      "outputs": [
        {
          "name": "stdout",
          "output_type": "stream",
          "text": [
            "10\n"
          ]
        }
      ],
      "source": [
        "print(sum(bhagya))"
      ]
    },
    {
      "cell_type": "code",
      "execution_count": null,
      "metadata": {
        "colab": {
          "base_uri": "https://localhost:8080/"
        },
        "id": "xv2UN00tkJ24",
        "outputId": "18a9c94d-082c-4099-8637-e38873c27374"
      },
      "outputs": [
        {
          "name": "stdout",
          "output_type": "stream",
          "text": [
            "6\n"
          ]
        }
      ],
      "source": [
        "print(len(my_tuple))"
      ]
    },
    {
      "cell_type": "markdown",
      "metadata": {
        "id": "8-UTg-M_m_ty"
      },
      "source": [
        "extended functions for tuple\n",
        "\n",
        "- count()\n",
        "- index()\n",
        "- sorted()\n",
        "- max(), min(), sum()\n"
      ]
    },
    {
      "cell_type": "markdown",
      "metadata": {
        "id": "pnWcD2PpkvMo"
      },
      "source": [
        "SET\n",
        "\n",
        "- initialized with curly braces\n",
        "- unordered\n",
        "- can modify with functions\n",
        "- does not allow duplicate items\n"
      ]
    },
    {
      "cell_type": "code",
      "execution_count": 5,
      "metadata": {
        "colab": {
          "base_uri": "https://localhost:8080/"
        },
        "id": "0xYU7GltktrF",
        "outputId": "80ec66a9-eb8e-40d5-aff9-c0f60875357c"
      },
      "outputs": [
        {
          "name": "stdout",
          "output_type": "stream",
          "text": [
            "<class 'set'>\n"
          ]
        }
      ],
      "source": [
        "my_set = {27,21,3,5,7}\n",
        "print(type(my_set))"
      ]
    },
    {
      "cell_type": "code",
      "execution_count": 6,
      "metadata": {
        "colab": {
          "base_uri": "https://localhost:8080/"
        },
        "id": "6PsrAabxk8cq",
        "outputId": "4a823aa7-11f6-4720-ca5d-2ff3f13d12b2"
      },
      "outputs": [
        {
          "name": "stdout",
          "output_type": "stream",
          "text": [
            "{3, 5, 21, 7, 27}\n"
          ]
        }
      ],
      "source": [
        "print(my_set)"
      ]
    },
    {
      "cell_type": "code",
      "execution_count": 7,
      "metadata": {
        "colab": {
          "base_uri": "https://localhost:8080/",
          "height": 180
        },
        "id": "IxH0jdDXk-J5",
        "outputId": "68979ddd-49ab-45f8-c621-00a4cf5e54ca"
      },
      "outputs": [
        {
          "ename": "TypeError",
          "evalue": "'set' object is not subscriptable",
          "output_type": "error",
          "traceback": [
            "\u001b[0;31m---------------------------------------------------------------------------\u001b[0m",
            "\u001b[0;31mTypeError\u001b[0m                                 Traceback (most recent call last)",
            "Cell \u001b[0;32mIn[7], line 1\u001b[0m\n\u001b[0;32m----> 1\u001b[0m \u001b[38;5;28mprint\u001b[39m(\u001b[43mmy_set\u001b[49m\u001b[43m[\u001b[49m\u001b[38;5;241;43m0\u001b[39;49m\u001b[43m]\u001b[49m)\n",
            "\u001b[0;31mTypeError\u001b[0m: 'set' object is not subscriptable"
          ]
        }
      ],
      "source": [
        "print(my_set[0])"
      ]
    },
    {
      "cell_type": "code",
      "execution_count": 8,
      "metadata": {
        "colab": {
          "base_uri": "https://localhost:8080/"
        },
        "id": "nuhu8X7olCMO",
        "outputId": "2c9251ab-66dd-4781-9dc4-04512e8e8bf3"
      },
      "outputs": [
        {
          "name": "stdout",
          "output_type": "stream",
          "text": [
            "{3, 4, 5, 21, 7, 27}\n"
          ]
        }
      ],
      "source": [
        "my_set.add(4)\n",
        "print(my_set)"
      ]
    },
    {
      "cell_type": "code",
      "execution_count": 9,
      "metadata": {
        "colab": {
          "base_uri": "https://localhost:8080/"
        },
        "id": "3iJCwWH6lHKd",
        "outputId": "d4ad4c00-8b1d-4331-8583-7674cd58c9e6"
      },
      "outputs": [
        {
          "name": "stdout",
          "output_type": "stream",
          "text": [
            "{4, 5, 21, 7, 27}\n"
          ]
        }
      ],
      "source": [
        "my_set.pop()\n",
        "print(my_set)"
      ]
    },
    {
      "cell_type": "markdown",
      "metadata": {
        "id": "U3B5zk5XmYcI"
      },
      "source": [
        "extended functions for set\n",
        "\n",
        "- copy()\n",
        "- clear()\n",
        "- intersection()\n",
        "- isdisjoint()\n",
        "- remove()\n",
        "- issuperset()\n",
        "- union()\n"
      ]
    },
    {
      "cell_type": "code",
      "execution_count": 67,
      "metadata": {
        "colab": {
          "base_uri": "https://localhost:8080/"
        },
        "id": "4ud2qugPmqBZ",
        "outputId": "f30de962-a742-4ba2-d8c8-c392e374fda8"
      },
      "outputs": [
        {
          "name": "stdout",
          "output_type": "stream",
          "text": [
            "{2, 3, 4}\n"
          ]
        }
      ],
      "source": [
        "a = {1,2,3,4,5}\n",
        "b = {2,3,4}\n",
        "\n",
        "print(a.intersection(b))"
      ]
    },
    {
      "cell_type": "markdown",
      "metadata": {
        "id": "ekM14CdplWTC"
      },
      "source": [
        "DICTIONARY\n",
        "\n",
        "- key:value pair\n",
        "- can manipulate values\n",
        "- cannot have duplicate keys\n"
      ]
    },
    {
      "cell_type": "code",
      "execution_count": 10,
      "metadata": {},
      "outputs": [],
      "source": [
        "dict1 = {\"python\": 25}"
      ]
    },
    {
      "cell_type": "code",
      "execution_count": 11,
      "metadata": {},
      "outputs": [
        {
          "name": "stdout",
          "output_type": "stream",
          "text": [
            "25\n"
          ]
        }
      ],
      "source": [
        "print(dict1[\"python\"])"
      ]
    },
    {
      "cell_type": "code",
      "execution_count": 13,
      "metadata": {},
      "outputs": [
        {
          "name": "stdout",
          "output_type": "stream",
          "text": [
            "32\n"
          ]
        }
      ],
      "source": [
        "dict1[\"python\"] = 32\n",
        "print(dict1[\"python\"])"
      ]
    },
    {
      "cell_type": "code",
      "execution_count": 15,
      "metadata": {
        "id": "yE6x5YLvlYAI"
      },
      "outputs": [],
      "source": [
        "dictionary = {\"name\": \"bhagya\",\n",
        "              \"school\" : \"scss\",\n",
        "              \"age\" : 22}"
      ]
    },
    {
      "cell_type": "code",
      "execution_count": 17,
      "metadata": {
        "colab": {
          "base_uri": "https://localhost:8080/"
        },
        "id": "3A1R9uqOlanH",
        "outputId": "04b4c7de-7d62-4669-ab6d-659cc1d5ef80"
      },
      "outputs": [
        {
          "name": "stdout",
          "output_type": "stream",
          "text": [
            "{'name': 'bhagya', 'school': 'scss', 'age': 22, 'course': 'mtech'}\n"
          ]
        }
      ],
      "source": [
        "dictionary[\"course\"] = \"mtech\"\n",
        "print(dictionary)"
      ]
    },
    {
      "cell_type": "code",
      "execution_count": null,
      "metadata": {
        "colab": {
          "base_uri": "https://localhost:8080/"
        },
        "id": "An37dvAcla-c",
        "outputId": "713b706c-239a-4bbd-8a39-f688ee08101e"
      },
      "outputs": [
        {
          "name": "stdout",
          "output_type": "stream",
          "text": [
            "bhagya\n"
          ]
        }
      ],
      "source": [
        "print(dictionary[\"name\"])"
      ]
    },
    {
      "cell_type": "code",
      "execution_count": 18,
      "metadata": {
        "colab": {
          "base_uri": "https://localhost:8080/",
          "height": 35
        },
        "id": "qLOMJFOalcbr",
        "outputId": "630a9ad7-9ba6-47ec-99ba-57f245045911"
      },
      "outputs": [
        {
          "data": {
            "text/plain": [
              "'bhagya'"
            ]
          },
          "execution_count": 18,
          "metadata": {},
          "output_type": "execute_result"
        }
      ],
      "source": [
        "dictionary.pop(\"name\")"
      ]
    },
    {
      "cell_type": "code",
      "execution_count": 19,
      "metadata": {
        "colab": {
          "base_uri": "https://localhost:8080/"
        },
        "id": "HoqxuB_Ildw1",
        "outputId": "9468d595-1fa8-4487-b08c-b2cf2dc7cc14"
      },
      "outputs": [
        {
          "name": "stdout",
          "output_type": "stream",
          "text": [
            "{'school': 'scss', 'age': 22, 'course': 'mtech'}\n"
          ]
        }
      ],
      "source": [
        "print(dictionary)"
      ]
    },
    {
      "cell_type": "markdown",
      "metadata": {
        "id": "Uu0xHUDEmIDv"
      },
      "source": [
        "extended functions for dictionary\n",
        "\n",
        "- keys()\n",
        "- values()\n",
        "- items()\n",
        "- clear()\n",
        "- get()\n"
      ]
    },
    {
      "cell_type": "code",
      "execution_count": 23,
      "metadata": {},
      "outputs": [
        {
          "name": "stdout",
          "output_type": "stream",
          "text": [
            "dict_values(['scss', 22, 'mtech'])\n"
          ]
        }
      ],
      "source": [
        "print(dictionary.values())"
      ]
    }
  ],
  "metadata": {
    "colab": {
      "provenance": []
    },
    "kernelspec": {
      "display_name": "Python 3",
      "name": "python3"
    },
    "language_info": {
      "codemirror_mode": {
        "name": "ipython",
        "version": 3
      },
      "file_extension": ".py",
      "mimetype": "text/x-python",
      "name": "python",
      "nbconvert_exporter": "python",
      "pygments_lexer": "ipython3",
      "version": "3.9.6"
    }
  },
  "nbformat": 4,
  "nbformat_minor": 0
}
