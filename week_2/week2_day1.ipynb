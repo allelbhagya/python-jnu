{
  "cells": [
    {
      "cell_type": "markdown",
      "metadata": {
        "id": "9ASKDqArJHFM"
      },
      "source": [
        "## basic input output\n"
      ]
    },
    {
      "cell_type": "code",
      "execution_count": 87,
      "metadata": {
        "colab": {
          "base_uri": "https://localhost:8080/"
        },
        "id": "etYqmbOHIlBr",
        "outputId": "e2080b4d-2b9d-479d-f09f-cf2246a682b5"
      },
      "outputs": [
        {
          "name": "stdout",
          "output_type": "stream",
          "text": [
            "bhagya\n"
          ]
        }
      ],
      "source": [
        "number = input()\n",
        "print(number)"
      ]
    },
    {
      "cell_type": "markdown",
      "metadata": {
        "id": "FL5-sINHJPgI"
      },
      "source": [
        "## comparision operators\n",
        "\n",
        "- assignment operator (=)\n",
        "- check equal to (==)\n",
        "- check not equal to (!=)\n",
        "- check greater than or equal to (>=)\n",
        "- check greater than (>)\n",
        "- check less than or equal to (<)\n",
        "- check less than or equal to (<=)\n"
      ]
    },
    {
      "cell_type": "code",
      "execution_count": 88,
      "metadata": {},
      "outputs": [],
      "source": [
        "float_val = 2.8"
      ]
    },
    {
      "cell_type": "code",
      "execution_count": 89,
      "metadata": {},
      "outputs": [
        {
          "name": "stdout",
          "output_type": "stream",
          "text": [
            "True\n"
          ]
        }
      ],
      "source": [
        "first_num = 3.7\n",
        "second_num = 3.7\n",
        "\n",
        "print(first_num <= second_num)"
      ]
    },
    {
      "cell_type": "code",
      "execution_count": 90,
      "metadata": {
        "colab": {
          "base_uri": "https://localhost:8080/"
        },
        "id": "gyD5vUzgJKkl",
        "outputId": "444e4f83-c489-4d07-eb4c-cdb83d939ff0"
      },
      "outputs": [
        {
          "name": "stdout",
          "output_type": "stream",
          "text": [
            "True\n",
            "True\n",
            "True\n",
            "False\n",
            "True\n"
          ]
        }
      ],
      "source": [
        "print(8 == 8)\n",
        "\n",
        "print(8>=7)\n",
        "\n",
        "print(8>6)\n",
        "\n",
        "print(8 <= 4)\n",
        "\n",
        "print(8!=9)"
      ]
    },
    {
      "cell_type": "markdown",
      "metadata": {
        "id": "bipqpZDCKNSr"
      },
      "source": [
        "### logical operators\n",
        "\n",
        "- and\n",
        "- or\n",
        "- not\n"
      ]
    },
    {
      "cell_type": "code",
      "execution_count": 91,
      "metadata": {},
      "outputs": [
        {
          "name": "stdout",
          "output_type": "stream",
          "text": [
            "False\n"
          ]
        }
      ],
      "source": [
        "first_con = False\n",
        "second_con = False\n",
        "\n",
        "print( first_con or second_con)"
      ]
    },
    {
      "cell_type": "markdown",
      "metadata": {
        "id": "4ujh3LFLLPJf"
      },
      "source": [
        "# Concept of indexing\n"
      ]
    },
    {
      "cell_type": "markdown",
      "metadata": {},
      "source": [
        "indexing starts from 0\n",
        "\n",
        "19 - index 0\n",
        "7 - index 1\n",
        "8 - index 2\n",
        "4 - index 3\n"
      ]
    },
    {
      "cell_type": "code",
      "execution_count": 92,
      "metadata": {},
      "outputs": [
        {
          "name": "stdout",
          "output_type": "stream",
          "text": [
            "b\n"
          ]
        }
      ],
      "source": [
        "name = \"bhagya\"\n",
        "print(name[0])"
      ]
    },
    {
      "cell_type": "code",
      "execution_count": 93,
      "metadata": {},
      "outputs": [
        {
          "name": "stdout",
          "output_type": "stream",
          "text": [
            "3\n"
          ]
        }
      ],
      "source": [
        "l = [3,7,9,1,50]\n",
        "print(l[0])"
      ]
    },
    {
      "cell_type": "code",
      "execution_count": 94,
      "metadata": {},
      "outputs": [
        {
          "name": "stdout",
          "output_type": "stream",
          "text": [
            "1\n"
          ]
        }
      ],
      "source": [
        "list_example = [1,2,3]\n",
        "print(list_example[0])"
      ]
    },
    {
      "cell_type": "markdown",
      "metadata": {
        "id": "xEg9rCBKKQBj"
      },
      "source": [
        "## In-built data types in python\n",
        "\n",
        "- List\n",
        "- Tuple\n",
        "- Set\n",
        "- Dictionary\n"
      ]
    },
    {
      "cell_type": "markdown",
      "metadata": {
        "id": "sw_vaRI1K_Ix"
      },
      "source": [
        "LIST\n",
        "\n",
        "- items are ordered\n",
        "- duplicates are allowed\n",
        "- modify data items\n"
      ]
    },
    {
      "cell_type": "code",
      "execution_count": 95,
      "metadata": {
        "id": "pet2zRYBKtqR"
      },
      "outputs": [],
      "source": [
        "nums = [3,3,4,4,7, 7,9,1,50]"
      ]
    },
    {
      "cell_type": "code",
      "execution_count": 96,
      "metadata": {},
      "outputs": [
        {
          "name": "stdout",
          "output_type": "stream",
          "text": [
            "[True, False, 89, 'bhagya', 'scss']\n"
          ]
        }
      ],
      "source": [
        "list_example = [True, False, 89, \"bhagya\", \"scss\"]\n",
        "print(list_example)"
      ]
    },
    {
      "cell_type": "code",
      "execution_count": 97,
      "metadata": {},
      "outputs": [
        {
          "name": "stdout",
          "output_type": "stream",
          "text": [
            "[True, False, 89, 'python', 'scss']\n"
          ]
        }
      ],
      "source": [
        "list_example[3] = \"python\"\n",
        "print(list_example)"
      ]
    },
    {
      "cell_type": "code",
      "execution_count": 98,
      "metadata": {
        "colab": {
          "base_uri": "https://localhost:8080/"
        },
        "id": "HzxhtOcEMyo-",
        "outputId": "4503f3fc-4b69-41fe-989e-4b11dde05f6d"
      },
      "outputs": [
        {
          "name": "stdout",
          "output_type": "stream",
          "text": [
            "[3, 3, 4, 4, 7, 7, 9, 1, 50]\n"
          ]
        }
      ],
      "source": [
        "print(nums)"
      ]
    },
    {
      "cell_type": "code",
      "execution_count": 99,
      "metadata": {},
      "outputs": [
        {
          "name": "stdout",
          "output_type": "stream",
          "text": [
            "7\n"
          ]
        }
      ],
      "source": [
        "print(nums[4])"
      ]
    },
    {
      "cell_type": "code",
      "execution_count": 100,
      "metadata": {
        "colab": {
          "base_uri": "https://localhost:8080/",
          "height": 144
        },
        "id": "lUsD26hZLv7X",
        "outputId": "bdca0762-608f-4cfb-a32f-7a1109444ef9"
      },
      "outputs": [
        {
          "name": "stdout",
          "output_type": "stream",
          "text": [
            "1\n"
          ]
        }
      ],
      "source": [
        "print(numbers[3])"
      ]
    },
    {
      "cell_type": "code",
      "execution_count": 101,
      "metadata": {
        "colab": {
          "base_uri": "https://localhost:8080/"
        },
        "id": "kB_oZXsCNJ0e",
        "outputId": "20eed36f-abf2-47a6-90aa-c287d013fb3f"
      },
      "outputs": [],
      "source": [
        "py_list = [1,2,3,4]"
      ]
    },
    {
      "cell_type": "code",
      "execution_count": 102,
      "metadata": {},
      "outputs": [
        {
          "name": "stdout",
          "output_type": "stream",
          "text": [
            "[1, 2, 3, 4, 50, 'bhagya']\n"
          ]
        }
      ],
      "source": [
        "py_list.append(50)\n",
        "py_list.append(\"bhagya\")\n",
        "print(py_list)"
      ]
    },
    {
      "cell_type": "code",
      "execution_count": 103,
      "metadata": {},
      "outputs": [
        {
          "name": "stdout",
          "output_type": "stream",
          "text": [
            "[True, 1, 2, 3, 4, 50, 'bhagya']\n"
          ]
        }
      ],
      "source": [
        "py_list.insert(0,True)\n",
        "print(py_list)"
      ]
    },
    {
      "cell_type": "code",
      "execution_count": 104,
      "metadata": {},
      "outputs": [
        {
          "name": "stdout",
          "output_type": "stream",
          "text": [
            "[25, True, 1, 2, 3, 4, 50, 'bhagya']\n"
          ]
        }
      ],
      "source": [
        "py_list.insert(0,25)\n",
        "print(py_list)"
      ]
    },
    {
      "cell_type": "code",
      "execution_count": 105,
      "metadata": {},
      "outputs": [
        {
          "name": "stdout",
          "output_type": "stream",
          "text": [
            "[True, 1, 2, 3, 4, 50, 'bhagya']\n"
          ]
        }
      ],
      "source": [
        "py_list.pop(0)\n",
        "print(py_list)"
      ]
    },
    {
      "cell_type": "markdown",
      "metadata": {
        "id": "GiNApj0iNtc0"
      },
      "source": [
        "TUPLE\n",
        "\n",
        "- items are ordered\n",
        "- duplicates are allowed\n",
        "- CANNOT data items\n"
      ]
    },
    {
      "cell_type": "code",
      "execution_count": 106,
      "metadata": {
        "colab": {
          "base_uri": "https://localhost:8080/"
        },
        "id": "4kzbUjkNNw92",
        "outputId": "89bc1890-4896-434f-f62f-45ecf6038cd7"
      },
      "outputs": [
        {
          "name": "stdout",
          "output_type": "stream",
          "text": [
            "('bhagya', 2, True)\n"
          ]
        }
      ],
      "source": [
        "my_tuple = (\"bhagya\", 2, True)\n",
        "print(my_tuple)"
      ]
    },
    {
      "cell_type": "code",
      "execution_count": 107,
      "metadata": {
        "colab": {
          "base_uri": "https://localhost:8080/"
        },
        "id": "8139d1OjN1Vf",
        "outputId": "f0a45250-9e3b-4a7a-a8f9-5e19b0e53929"
      },
      "outputs": [
        {
          "name": "stdout",
          "output_type": "stream",
          "text": [
            "<class 'tuple'>\n"
          ]
        }
      ],
      "source": [
        "print(type(my_tuple))"
      ]
    },
    {
      "cell_type": "code",
      "execution_count": 108,
      "metadata": {
        "colab": {
          "base_uri": "https://localhost:8080/"
        },
        "id": "tOEcMclQN3fw",
        "outputId": "602a51cb-6a5f-481e-8fae-b210aff7b1f4"
      },
      "outputs": [
        {
          "name": "stdout",
          "output_type": "stream",
          "text": [
            "2\n"
          ]
        }
      ],
      "source": [
        "print(my_tuple[1])"
      ]
    },
    {
      "cell_type": "code",
      "execution_count": 109,
      "metadata": {
        "colab": {
          "base_uri": "https://localhost:8080/",
          "height": 144
        },
        "id": "b5yNGheaN6cm",
        "outputId": "7135ad11-a88b-48be-adf9-b1ab24712a02"
      },
      "outputs": [
        {
          "ename": "TypeError",
          "evalue": "'tuple' object does not support item assignment",
          "output_type": "error",
          "traceback": [
            "\u001b[0;31m---------------------------------------------------------------------------\u001b[0m",
            "\u001b[0;31mTypeError\u001b[0m                                 Traceback (most recent call last)",
            "Cell \u001b[0;32mIn[109], line 1\u001b[0m\n\u001b[0;32m----> 1\u001b[0m \u001b[43mmy_tuple\u001b[49m\u001b[43m[\u001b[49m\u001b[38;5;241;43m1\u001b[39;49m\u001b[43m]\u001b[49m \u001b[38;5;241m=\u001b[39m \u001b[38;5;28;01mFalse\u001b[39;00m\n",
            "\u001b[0;31mTypeError\u001b[0m: 'tuple' object does not support item assignment"
          ]
        }
      ],
      "source": [
        "my_tuple[1] = False"
      ]
    },
    {
      "cell_type": "markdown",
      "metadata": {
        "id": "5R32Ht5YOOgW"
      },
      "source": [
        "SET\n",
        "\n",
        "- unordered\n",
        "- can modify with functions\n",
        "- does not allow duplicate items\n"
      ]
    },
    {
      "cell_type": "code",
      "execution_count": 110,
      "metadata": {
        "colab": {
          "base_uri": "https://localhost:8080/"
        },
        "id": "emfMXYZyOl77",
        "outputId": "17416d74-bcc2-4324-a84e-8ff82a1eafa3"
      },
      "outputs": [
        {
          "name": "stdout",
          "output_type": "stream",
          "text": [
            "<class 'set'>\n"
          ]
        }
      ],
      "source": [
        "my_set = {2, 78, 0}\n",
        "print(type(my_set))"
      ]
    },
    {
      "cell_type": "code",
      "execution_count": 111,
      "metadata": {
        "colab": {
          "base_uri": "https://localhost:8080/",
          "height": 144
        },
        "id": "BPUJNZasOom7",
        "outputId": "34f44e87-0acd-4f64-a0f0-1f0163dcb745"
      },
      "outputs": [
        {
          "ename": "TypeError",
          "evalue": "'set' object is not subscriptable",
          "output_type": "error",
          "traceback": [
            "\u001b[0;31m---------------------------------------------------------------------------\u001b[0m",
            "\u001b[0;31mTypeError\u001b[0m                                 Traceback (most recent call last)",
            "Cell \u001b[0;32mIn[111], line 1\u001b[0m\n\u001b[0;32m----> 1\u001b[0m \u001b[38;5;28mprint\u001b[39m(\u001b[43mmy_set\u001b[49m\u001b[43m[\u001b[49m\u001b[38;5;241;43m0\u001b[39;49m\u001b[43m]\u001b[49m)\n",
            "\u001b[0;31mTypeError\u001b[0m: 'set' object is not subscriptable"
          ]
        }
      ],
      "source": [
        "print(my_set[0])"
      ]
    },
    {
      "cell_type": "code",
      "execution_count": 112,
      "metadata": {
        "colab": {
          "base_uri": "https://localhost:8080/"
        },
        "id": "Gq0OMK86Oscm",
        "outputId": "01650abf-a4f6-483f-a463-d55e3a42f48f"
      },
      "outputs": [
        {
          "name": "stdout",
          "output_type": "stream",
          "text": [
            "{0, 2, 78}\n"
          ]
        }
      ],
      "source": [
        "print(my_set)"
      ]
    },
    {
      "cell_type": "markdown",
      "metadata": {
        "id": "wbue35qJO2oO"
      },
      "source": [
        "DICTIONARY\n",
        "\n",
        "- key:value pair\n",
        "- can manipulate values\n",
        "- cannot have duplicate keys\n"
      ]
    },
    {
      "cell_type": "code",
      "execution_count": 113,
      "metadata": {
        "id": "QBPWmkzYPBvS"
      },
      "outputs": [],
      "source": [
        "dictionary = {\"name\": \"bhagya\",\n",
        "              \"school\" : \"scss\",\n",
        "              \"age\" : 22}"
      ]
    },
    {
      "cell_type": "code",
      "execution_count": 114,
      "metadata": {
        "colab": {
          "base_uri": "https://localhost:8080/"
        },
        "id": "19ScwhJ1PJaZ",
        "outputId": "c6b18df0-069d-49e7-8f78-6e466793cace"
      },
      "outputs": [
        {
          "name": "stdout",
          "output_type": "stream",
          "text": [
            "{'name': 'bhagya', 'school': 'scss', 'age': 22}\n"
          ]
        }
      ],
      "source": [
        "print(dictionary)"
      ]
    },
    {
      "cell_type": "code",
      "execution_count": 115,
      "metadata": {
        "colab": {
          "base_uri": "https://localhost:8080/"
        },
        "id": "EOFf2bHRPRRX",
        "outputId": "13e9ecea-e50f-4731-a610-b20b13f96911"
      },
      "outputs": [
        {
          "name": "stdout",
          "output_type": "stream",
          "text": [
            "bhagya\n"
          ]
        }
      ],
      "source": [
        "print(dictionary[\"name\"])"
      ]
    },
    {
      "cell_type": "code",
      "execution_count": 116,
      "metadata": {
        "colab": {
          "base_uri": "https://localhost:8080/",
          "height": 35
        },
        "id": "F0bWW_t4O_sB",
        "outputId": "618cae92-b65e-4a0b-b1b1-3d847dea59f1"
      },
      "outputs": [
        {
          "data": {
            "text/plain": [
              "'bhagya'"
            ]
          },
          "execution_count": 116,
          "metadata": {},
          "output_type": "execute_result"
        }
      ],
      "source": [
        "dictionary.pop(\"name\")"
      ]
    },
    {
      "cell_type": "code",
      "execution_count": 117,
      "metadata": {
        "colab": {
          "base_uri": "https://localhost:8080/"
        },
        "id": "uWFRx4EGPhND",
        "outputId": "84c4b7fc-f042-43fa-f33f-ae11f5a24e90"
      },
      "outputs": [
        {
          "name": "stdout",
          "output_type": "stream",
          "text": [
            "{'school': 'scss', 'age': 22}\n"
          ]
        }
      ],
      "source": [
        "print(dictionary)"
      ]
    }
  ],
  "metadata": {
    "colab": {
      "provenance": []
    },
    "kernelspec": {
      "display_name": "Python 3",
      "name": "python3"
    },
    "language_info": {
      "codemirror_mode": {
        "name": "ipython",
        "version": 3
      },
      "file_extension": ".py",
      "mimetype": "text/x-python",
      "name": "python",
      "nbconvert_exporter": "python",
      "pygments_lexer": "ipython3",
      "version": "3.9.6"
    }
  },
  "nbformat": 4,
  "nbformat_minor": 0
}
