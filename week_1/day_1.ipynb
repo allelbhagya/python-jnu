{
  "nbformat": 4,
  "nbformat_minor": 0,
  "metadata": {
    "colab": {
      "provenance": []
    },
    "kernelspec": {
      "name": "python3",
      "display_name": "Python 3"
    },
    "language_info": {
      "name": "python"
    }
  },
  "cells": [
    {
      "cell_type": "markdown",
      "source": [
        "- go connect your colab to runtime\n",
        "- then run first line of code"
      ],
      "metadata": {
        "id": "oFcSGT_-5TSa"
      }
    },
    {
      "cell_type": "code",
      "execution_count": null,
      "metadata": {
        "colab": {
          "base_uri": "https://localhost:8080/"
        },
        "id": "9a8Ki9EQyxfd",
        "outputId": "55085d3b-5a8a-44c6-f148-5ea2239183d9"
      },
      "outputs": [
        {
          "output_type": "stream",
          "name": "stdout",
          "text": [
            "hello world\n"
          ]
        }
      ],
      "source": [
        "print(\"hello world\")"
      ]
    },
    {
      "cell_type": "markdown",
      "source": [
        "basic input/output\n",
        "- after you run the code, it will show a blank input box to enter a \"string\" and then press enter\n",
        "- it will print \"My name is {what you enter}\""
      ],
      "metadata": {
        "id": "ENAOePOC5mak"
      }
    },
    {
      "cell_type": "code",
      "source": [
        "name = input()\n",
        "print(\"My name is \", name)"
      ],
      "metadata": {
        "id": "KWJedAWCzvhX",
        "colab": {
          "base_uri": "https://localhost:8080/"
        },
        "outputId": "a9236179-7c58-43b1-886b-ce76b8c50e27"
      },
      "execution_count": null,
      "outputs": [
        {
          "output_type": "stream",
          "name": "stdout",
          "text": [
            "bhagya\n",
            "My name is  bhagya\n"
          ]
        }
      ]
    },
    {
      "cell_type": "markdown",
      "source": [
        "concept of classes and objects\n",
        "- everything in python is treated as an object\n",
        "- an object will have functions/methods we can apply on it"
      ],
      "metadata": {
        "id": "AvysltDKRaS2"
      }
    },
    {
      "cell_type": "code",
      "source": [
        "name = \"bhagya\"\n",
        "name.isnumeric()"
      ],
      "metadata": {
        "id": "VLy_CTjtRlws",
        "colab": {
          "base_uri": "https://localhost:8080/"
        },
        "outputId": "8c9acc56-50c9-4607-b76e-4d7532ba1685"
      },
      "execution_count": null,
      "outputs": [
        {
          "output_type": "execute_result",
          "data": {
            "text/plain": [
              "False"
            ]
          },
          "metadata": {},
          "execution_count": 21
        }
      ]
    },
    {
      "cell_type": "code",
      "source": [
        "name.isalpha()"
      ],
      "metadata": {
        "colab": {
          "base_uri": "https://localhost:8080/"
        },
        "id": "H6k1gH6dSKFz",
        "outputId": "6b19ce7f-2edb-42f4-a97c-68d89536dacb"
      },
      "execution_count": null,
      "outputs": [
        {
          "output_type": "execute_result",
          "data": {
            "text/plain": [
              "True"
            ]
          },
          "metadata": {},
          "execution_count": 22
        }
      ]
    },
    {
      "cell_type": "code",
      "source": [
        "# like the example i gave for class, object and methods\n",
        "\n",
        "class Animal:\n",
        "    def __init__(self, name, colour):\n",
        "        self.name = name\n",
        "        self.colour = colour\n",
        "\n",
        "    def sound(self):\n",
        "        print(\"meow\")\n",
        "\n",
        "# now we create object of class Animal, named cat and colour black\n",
        "\n",
        "my_animal = Animal(name=\"cat\", colour=\"black\")\n",
        "\n",
        "# using function/method named sound on our object Cat\n",
        "my_animal.sound()\n",
        "\n"
      ],
      "metadata": {
        "colab": {
          "base_uri": "https://localhost:8080/"
        },
        "id": "5Q3FnElA6ZhT",
        "outputId": "5efcd7f7-8acf-4985-bf01-752918f54aa5"
      },
      "execution_count": null,
      "outputs": [
        {
          "output_type": "stream",
          "name": "stdout",
          "text": [
            "meow\n"
          ]
        }
      ]
    },
    {
      "cell_type": "markdown",
      "source": [
        "intrinsic/primitive data types in python\n",
        "- integer\n",
        "- float\n",
        "- string\n",
        "- boolean\n",
        "- type conversion"
      ],
      "metadata": {
        "id": "94s9ACEqOGm7"
      }
    },
    {
      "cell_type": "code",
      "source": [
        "int_val = 5\n",
        "\n",
        "# using type function to see what data type a variable holds\n",
        "print(type(int_val))"
      ],
      "metadata": {
        "colab": {
          "base_uri": "https://localhost:8080/"
        },
        "id": "X4uVeN-OOcG_",
        "outputId": "d2ffcd3c-5e95-44dd-ea35-548a7b5dda26"
      },
      "execution_count": null,
      "outputs": [
        {
          "output_type": "stream",
          "name": "stdout",
          "text": [
            "<class 'int'>\n"
          ]
        }
      ]
    },
    {
      "cell_type": "code",
      "source": [
        "# applying function \"bit_length\" on object 5\n",
        "# prints the bit length taken by integer 5\n",
        "int_val.bit_length()"
      ],
      "metadata": {
        "colab": {
          "base_uri": "https://localhost:8080/"
        },
        "id": "7ikbfG3ESWNP",
        "outputId": "7912a780-0bdb-45aa-884e-ddd258743a72"
      },
      "execution_count": null,
      "outputs": [
        {
          "output_type": "execute_result",
          "data": {
            "text/plain": [
              "3"
            ]
          },
          "metadata": {},
          "execution_count": 29
        }
      ]
    },
    {
      "cell_type": "code",
      "source": [
        "float_value = 10.57\n",
        "print(type(float_value))"
      ],
      "metadata": {
        "colab": {
          "base_uri": "https://localhost:8080/"
        },
        "id": "x0pnlKz5OgYI",
        "outputId": "c0a46ce3-2fc4-46ce-cf71-6e4d5d08e406"
      },
      "execution_count": null,
      "outputs": [
        {
          "output_type": "stream",
          "name": "stdout",
          "text": [
            "<class 'float'>\n"
          ]
        }
      ]
    },
    {
      "cell_type": "code",
      "source": [
        "str_val = \"bhagya\"\n",
        "print(type(str_val))"
      ],
      "metadata": {
        "colab": {
          "base_uri": "https://localhost:8080/"
        },
        "id": "k46S6kNrTWfF",
        "outputId": "3391ea73-3d24-4d68-84b6-4d0614726f4e"
      },
      "execution_count": null,
      "outputs": [
        {
          "output_type": "stream",
          "name": "stdout",
          "text": [
            "<class 'str'>\n"
          ]
        }
      ]
    },
    {
      "cell_type": "markdown",
      "source": [
        "## coverting a string into an integer"
      ],
      "metadata": {
        "id": "7Rp24wYb7LbM"
      }
    },
    {
      "cell_type": "code",
      "source": [
        "num_val = '9'\n",
        "print(type(num_val))"
      ],
      "metadata": {
        "colab": {
          "base_uri": "https://localhost:8080/"
        },
        "id": "rZhQaOZwTbKy",
        "outputId": "70152901-897d-4eb2-e48e-5411658e4bfd"
      },
      "execution_count": null,
      "outputs": [
        {
          "output_type": "stream",
          "name": "stdout",
          "text": [
            "<class 'str'>\n"
          ]
        }
      ]
    },
    {
      "cell_type": "code",
      "source": [
        "num_val = int(num_val)\n",
        "print(type(num_val))"
      ],
      "metadata": {
        "colab": {
          "base_uri": "https://localhost:8080/"
        },
        "id": "l69v4DoeTfU6",
        "outputId": "f3f40a40-7e78-48c6-c4cc-aebc49eafec0"
      },
      "execution_count": null,
      "outputs": [
        {
          "output_type": "stream",
          "name": "stdout",
          "text": [
            "<class 'int'>\n"
          ]
        }
      ]
    },
    {
      "cell_type": "markdown",
      "source": [
        "## numeric operations on python"
      ],
      "metadata": {
        "id": "XAJJXVI57PKP"
      }
    },
    {
      "cell_type": "code",
      "source": [
        "a = 9\n",
        "b = 4\n",
        "add = a + b\n",
        "\n",
        "sub = a - b\n",
        "\n",
        "mul = a * b\n",
        "\n",
        "mod = a % b\n",
        "\n",
        "p = a ** b\n",
        "\n",
        "print(\"addition of 9 and 4=\", add)\n",
        "print(\"9-4 = \", sub)\n",
        "print(\"9 * 4 = \", mul)\n",
        "print(mod)\n",
        "print(p)"
      ],
      "metadata": {
        "colab": {
          "base_uri": "https://localhost:8080/"
        },
        "id": "2jclQopPWOI4",
        "outputId": "09bbb836-bcf6-4b4b-bc6c-b34a5a9c3cc7"
      },
      "execution_count": null,
      "outputs": [
        {
          "output_type": "stream",
          "name": "stdout",
          "text": [
            "addition of 9 and 4= 13\n",
            "9-4 =  5\n",
            "9 * 4 =  36\n",
            "1\n",
            "6561\n"
          ]
        }
      ]
    },
    {
      "cell_type": "markdown",
      "source": [
        "## boolean (True / False with comparision)\n",
        "\n",
        "```\n",
        "== means checking equal to\n",
        ">= means checking greater than or equal to\n",
        "<= means checking less than or equal\n",
        "!= means checking not equal to\n",
        "```"
      ],
      "metadata": {
        "id": "jYJS51xo7k_J"
      }
    },
    {
      "cell_type": "code",
      "source": [
        "print(8 == 8)\n",
        "\n",
        "print(8>=7)\n",
        "\n",
        "print(8 <= 4)\n",
        "\n",
        "print(8!=9)"
      ],
      "metadata": {
        "colab": {
          "base_uri": "https://localhost:8080/"
        },
        "id": "LkhBcB_MWmcW",
        "outputId": "936d24fa-4573-4c90-cd27-468437d76e6e"
      },
      "execution_count": null,
      "outputs": [
        {
          "output_type": "stream",
          "name": "stdout",
          "text": [
            "True\n",
            "True\n",
            "False\n",
            "True\n"
          ]
        }
      ]
    },
    {
      "cell_type": "code",
      "source": [
        "age = 18\n",
        "\n",
        "if age >= 18:\n",
        "    print(\"You are an adult.\")\n",
        "else:\n",
        "    print(\"You are a minor.\")"
      ],
      "metadata": {
        "colab": {
          "base_uri": "https://localhost:8080/"
        },
        "id": "k4ZN3A9YWlDz",
        "outputId": "cd58f5fc-8f89-4c3c-827e-0fbd6153b9b0"
      },
      "execution_count": null,
      "outputs": [
        {
          "output_type": "stream",
          "name": "stdout",
          "text": [
            "You are an adult.\n"
          ]
        }
      ]
    },
    {
      "cell_type": "code",
      "source": [
        "score = 85\n",
        "\n",
        "if score >= 90:\n",
        "    print(\"Grade: A\")\n",
        "elif score >= 80:\n",
        "    if score >= 85:\n",
        "        print(\"Grade: B+\")\n",
        "    else:\n",
        "        print(\"Grade: B\")\n",
        "elif score >= 70:\n",
        "    print(\"Grade: C\")\n",
        "else:\n",
        "    print(\"Grade: D\")"
      ],
      "metadata": {
        "colab": {
          "base_uri": "https://localhost:8080/"
        },
        "id": "exZ1A_FjWxVf",
        "outputId": "44d93037-403f-4aeb-b7fd-f365236290f0"
      },
      "execution_count": null,
      "outputs": [
        {
          "output_type": "stream",
          "name": "stdout",
          "text": [
            "Grade: B+\n"
          ]
        }
      ]
    },
    {
      "cell_type": "code",
      "source": [
        "fruits = [\"apple\", \"banana\", \"cherry\"]\n",
        "\n",
        "for fruit in fruits:\n",
        "    print(fruit)"
      ],
      "metadata": {
        "colab": {
          "base_uri": "https://localhost:8080/"
        },
        "id": "YGhMLaeeW0Qc",
        "outputId": "52903f1e-4e58-47d1-dec3-afb296fbe958"
      },
      "execution_count": null,
      "outputs": [
        {
          "output_type": "stream",
          "name": "stdout",
          "text": [
            "apple\n",
            "banana\n",
            "cherry\n"
          ]
        }
      ]
    },
    {
      "cell_type": "code",
      "source": [
        "count = 0\n",
        "\n",
        "while count < 5:\n",
        "    print(count)\n",
        "    count += 1"
      ],
      "metadata": {
        "colab": {
          "base_uri": "https://localhost:8080/"
        },
        "id": "aHgYmaEpW2bQ",
        "outputId": "59f74836-d8f5-4a5d-ddd5-865ecb71ef00"
      },
      "execution_count": null,
      "outputs": [
        {
          "output_type": "stream",
          "name": "stdout",
          "text": [
            "0\n",
            "1\n",
            "2\n",
            "3\n",
            "4\n"
          ]
        }
      ]
    },
    {
      "cell_type": "code",
      "source": [
        "for number in range(20):\n",
        "    if number == 15:\n",
        "        break  # exits the loop when number is 5\n",
        "    if number % 2 == 0:\n",
        "        continue  # skips the rest of the loop iteration for even numbers\n",
        "    print(number)"
      ],
      "metadata": {
        "colab": {
          "base_uri": "https://localhost:8080/"
        },
        "id": "1Nc9HqQqW5La",
        "outputId": "67ad7c7b-408b-4f46-86db-dbb9b3379e9c"
      },
      "execution_count": null,
      "outputs": [
        {
          "output_type": "stream",
          "name": "stdout",
          "text": [
            "1\n",
            "3\n",
            "5\n",
            "7\n",
            "9\n",
            "11\n",
            "13\n"
          ]
        }
      ]
    },
    {
      "cell_type": "code",
      "source": [
        "from sklearn.datasets import fetch_california_housing\n",
        "from sklearn.model_selection import train_test_split\n",
        "from sklearn.linear_model import LinearRegression\n",
        "from sklearn.metrics import r2_score\n",
        "\n",
        "cal = fetch_california_housing()\n",
        "X,y = cal.data, cal.target\n",
        "\n",
        "X_train,X_test, y_train, y_test = train_test_split(X,y, test_size=0.2, shuffle=False, random_state=0)\n",
        "\n",
        "model = LinearRegression()\n",
        "model.fit(X_train, y_train)\n",
        "\n",
        "model.score(X_test, y_test)"
      ],
      "metadata": {
        "colab": {
          "base_uri": "https://localhost:8080/"
        },
        "id": "K5Y7XDlhSyQQ",
        "outputId": "c0721bf3-cb90-4224-d602-6fd0d4d2d6a5"
      },
      "execution_count": null,
      "outputs": [
        {
          "output_type": "execute_result",
          "data": {
            "text/plain": [
              "0.6605140591532079"
            ]
          },
          "metadata": {},
          "execution_count": 19
        }
      ]
    }
  ]
}