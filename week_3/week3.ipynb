{
 "cells": [
  {
   "cell_type": "markdown",
   "metadata": {},
   "source": [
    "if statements"
   ]
  },
  {
   "cell_type": "code",
   "execution_count": 13,
   "metadata": {},
   "outputs": [
    {
     "name": "stdout",
     "output_type": "stream",
     "text": [
      "you are eligible to vote\n",
      "second line\n"
     ]
    }
   ],
   "source": [
    "age = 20\n",
    "\n",
    "if age >= 18:\n",
    "    print('you are eligible to vote')\n",
    "    print(\"second line\")\n",
    "if age < 18:\n",
    "    print('you are not eligible to vote')"
   ]
  },
  {
   "cell_type": "markdown",
   "metadata": {},
   "source": [
    "else statements"
   ]
  },
  {
   "cell_type": "code",
   "execution_count": 9,
   "metadata": {},
   "outputs": [
    {
     "name": "stdout",
     "output_type": "stream",
     "text": [
      "passed\n"
     ]
    }
   ],
   "source": [
    "marks = 67\n",
    "\n",
    "if (marks >= 90):\n",
    "    print(\"a grade\")\n",
    "if (marks>=80 and marks <90):\n",
    "    print(\"b grade\")\n",
    "else:\n",
    "    print(\"passed\")"
   ]
  },
  {
   "cell_type": "markdown",
   "metadata": {},
   "source": [
    "elif statements"
   ]
  },
  {
   "cell_type": "code",
   "execution_count": 11,
   "metadata": {},
   "outputs": [
    {
     "name": "stdout",
     "output_type": "stream",
     "text": [
      "not grad\n"
     ]
    }
   ],
   "source": [
    "age = 18\n",
    "\n",
    "if (age >20):\n",
    "    print(\"grad\")\n",
    "elif (age<=20):\n",
    "    print(\"not grad\")"
   ]
  },
  {
   "cell_type": "markdown",
   "metadata": {},
   "source": [
    "nested if statements"
   ]
  },
  {
   "cell_type": "markdown",
   "metadata": {},
   "source": [
    "and or not"
   ]
  },
  {
   "cell_type": "markdown",
   "metadata": {},
   "source": [
    "pass statement"
   ]
  }
 ],
 "metadata": {
  "kernelspec": {
   "display_name": "Python 3",
   "language": "python",
   "name": "python3"
  },
  "language_info": {
   "codemirror_mode": {
    "name": "ipython",
    "version": 3
   },
   "file_extension": ".py",
   "mimetype": "text/x-python",
   "name": "python",
   "nbconvert_exporter": "python",
   "pygments_lexer": "ipython3",
   "version": "3.9.6"
  }
 },
 "nbformat": 4,
 "nbformat_minor": 2
}
