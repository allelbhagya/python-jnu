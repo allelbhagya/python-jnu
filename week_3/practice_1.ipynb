{
  "cells": [
    {
      "cell_type": "markdown",
      "metadata": {
        "id": "3cjoPYTLOl_q"
      },
      "source": [
        "if there's any doubt for any question, just ask in python group :)\n",
        "- connect to runtime\n",
        "- run first line of code, if a box pop ups, click on \"run anyways\"\n",
        "- once connected run the hello world code to make sure colab is ready for your python code\n",
        "- start writing code in gray area after each question and press the \"run\" button present on left side of each gray cell\n",
        "\n",
        "python notes for reference:\n",
        "https://bhagyalaxmi.notion.site/Python-with-AI-dc55eea6f63e4197a34fbee67c0399b3?pvs=74"
      ]
    },
    {
      "cell_type": "markdown",
      "metadata": {
        "id": "s994_p2AOz95"
      },
      "source": [
        "### 0. print hello world to screen"
      ]
    },
    {
      "cell_type": "code",
      "execution_count": null,
      "metadata": {
        "colab": {
          "base_uri": "https://localhost:8080/"
        },
        "id": "dgGQ-yN2O14C",
        "outputId": "9bafa39f-897f-4a4d-f6ab-314daeb660a0"
      },
      "outputs": [
        {
          "name": "stdout",
          "output_type": "stream",
          "text": [
            "hello world\n"
          ]
        }
      ],
      "source": [
        "print(\"hello world\")"
      ]
    },
    {
      "cell_type": "markdown",
      "metadata": {
        "id": "bytjzPQkNrMp"
      },
      "source": [
        "### 1. create a variable my_name, initialize it with a string of your name and print it."
      ]
    },
    {
      "cell_type": "code",
      "execution_count": null,
      "metadata": {
        "id": "90uQp3lZNmbv"
      },
      "outputs": [],
      "source": []
    },
    {
      "cell_type": "markdown",
      "metadata": {
        "id": "w1ukrhOpN7pO"
      },
      "source": [
        "### 2. create variables\n",
        "- my_int\n",
        "- my_float\n",
        "- my_str\n",
        "- my_boolean\n",
        "\n",
        "and initialize with some int, float, str and boolean value respectively and print them."
      ]
    },
    {
      "cell_type": "code",
      "execution_count": null,
      "metadata": {
        "id": "0420ZlUSOUao"
      },
      "outputs": [],
      "source": []
    },
    {
      "cell_type": "markdown",
      "metadata": {
        "id": "bSaMuSpbOZxR"
      },
      "source": [
        "### 3. use type function to check if the initalized variables contain that data type or not"
      ]
    },
    {
      "cell_type": "code",
      "execution_count": null,
      "metadata": {
        "id": "chQ_GbYvOfhm"
      },
      "outputs": [],
      "source": []
    },
    {
      "cell_type": "markdown",
      "metadata": {
        "id": "0H_tfXG-PT-u"
      },
      "source": [
        "### 4. Try out variable names of your choice, and see what python allows and what it does not\n",
        "\n",
        "Rules for Python variables\n",
        "- A Python variable name must start with a letter or the underscore character.\n",
        "- A Python variable name cannot start with a number.\n",
        "- A Python variable name can only contain alpha-numeric characters and underscores (A-z, 0-9, and _ ).\n",
        "- Variable in Python names are case-sensitive (name, Name, and NAME are three different variables).\n",
        "- The reserved words(keywords) in Python cannot be used to name the variable in Python."
      ]
    },
    {
      "cell_type": "code",
      "execution_count": null,
      "metadata": {
        "id": "zqLGPx6XPchu"
      },
      "outputs": [],
      "source": []
    },
    {
      "cell_type": "markdown",
      "metadata": {
        "id": "EY7CFxOrPq3l"
      },
      "source": [
        "### 5. take two variables \"a\" and \"b\" initalize with some number (integer or float). perform mathematical operations on it, print each operation to see outputs\n",
        "- add\n",
        "- subtract\n",
        "- multiply\n",
        "- divide\n",
        "- power"
      ]
    },
    {
      "cell_type": "code",
      "execution_count": null,
      "metadata": {
        "id": "INdvC3TXQAN1"
      },
      "outputs": [],
      "source": []
    },
    {
      "cell_type": "markdown",
      "metadata": {
        "id": "PMaRpnAhQWbB"
      },
      "source": [
        "### 6. Take input \"name\" and print name variable."
      ]
    },
    {
      "cell_type": "code",
      "execution_count": null,
      "metadata": {
        "id": "F08WxO-rQcUi"
      },
      "outputs": [],
      "source": []
    },
    {
      "cell_type": "markdown",
      "metadata": {
        "id": "KerksuZ9Qc11"
      },
      "source": [
        "### 7. use the variables you initialized in ques 5 and perform logical operators on it.\n",
        "\n",
        "- check equal to (==)\n",
        "- check not equal to (!=)\n",
        "- check greater than or equal to (>=)\n",
        "- check greater than (>)\n",
        "- check less than or equal to (<)\n",
        "- check less than or equal to (<=)\n",
        "\n",
        "example: print(a==b)\n",
        "\n"
      ]
    },
    {
      "cell_type": "code",
      "execution_count": null,
      "metadata": {
        "id": "8UpEZlxwQ54V"
      },
      "outputs": [],
      "source": []
    },
    {
      "cell_type": "markdown",
      "metadata": {
        "id": "sLCDzq_AQ6MV"
      },
      "source": [
        "### 8. make a variable named \"text\" initialize with any word of length 5\n",
        "check index of each letter in string using concept of indexing\n",
        "\n",
        "- print(text[0])\n",
        "- print(text[1])\n",
        "\n",
        "and so on, check last index of string."
      ]
    },
    {
      "cell_type": "code",
      "execution_count": null,
      "metadata": {
        "id": "yjrEHHeVRWhZ"
      },
      "outputs": [],
      "source": []
    },
    {
      "cell_type": "markdown",
      "metadata": {
        "id": "kIKakWJRRaZg"
      },
      "source": [
        "### 9. make a list named list1 and initalize with numbers.\n",
        "\n",
        "example:\n",
        "\n",
        "list1 = [1,2,3,4,5]\n",
        "\n",
        "### append an item into list\n",
        "### insert an item at index 2\n",
        "### remove an iterm"
      ]
    },
    {
      "cell_type": "code",
      "execution_count": null,
      "metadata": {
        "id": "If8OBqaERk5n"
      },
      "outputs": [],
      "source": []
    },
    {
      "cell_type": "markdown",
      "metadata": {
        "id": "wnJkGUHsRyow"
      },
      "source": [
        "### 10. make a dictionary named dict1\n",
        "- add atleast 3 key value pairs into dictionary\n",
        "- print a value using key\n",
        "- modify a value using key\n",
        "- remove key value pair from dictionary"
      ]
    },
    {
      "cell_type": "code",
      "execution_count": null,
      "metadata": {
        "id": "l1LkLQvgSFGl"
      },
      "outputs": [],
      "source": []
    }
  ],
  "metadata": {
    "colab": {
      "provenance": []
    },
    "kernelspec": {
      "display_name": "Python 3",
      "name": "python3"
    },
    "language_info": {
      "name": "python"
    }
  },
  "nbformat": 4,
  "nbformat_minor": 0
}
