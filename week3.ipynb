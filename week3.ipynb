{
 "cells": [
  {
   "cell_type": "code",
   "execution_count": 5,
   "metadata": {},
   "outputs": [
    {
     "name": "stdout",
     "output_type": "stream",
     "text": [
      "you are not a student of above following schools\n"
     ]
    }
   ],
   "source": [
    "school = \"soe\"\n",
    "\n",
    "if school == \"scss\":\n",
    "    print(\"you are a student of scss\")\n",
    "if school == \"sl\":\n",
    "    print(\"you are a student of sl\")\n",
    "if school == \"sis\":\n",
    "    print(\"you are a student of SIS\")\n",
    "if school == \"sss\":\n",
    "    print(\"you are a student of sss\")\n",
    "else:\n",
    "    print(\"you are not a student of above following schools\")\n"
   ]
  },
  {
   "cell_type": "code",
   "execution_count": 6,
   "metadata": {},
   "outputs": [
    {
     "name": "stdout",
     "output_type": "stream",
     "text": [
      "It's warm. Wear comfortable clothes.\n"
     ]
    }
   ],
   "source": [
    "temperature = 25\n",
    "\n",
    "if temperature > 30:\n",
    "    print(\"It's hot! Wear light clothes.\")\n",
    "elif 20 <= temperature <= 30:\n",
    "    print(\"It's warm. Wear comfortable clothes.\")\n",
    "elif 10 <= temperature < 20:\n",
    "    print(\"It's cool. Wear a jacket.\")\n",
    "else:\n",
    "    print(\"It's cold! Wear warm clothes.\")\n"
   ]
  }
 ],
 "metadata": {
  "kernelspec": {
   "display_name": "Python 3",
   "language": "python",
   "name": "python3"
  },
  "language_info": {
   "codemirror_mode": {
    "name": "ipython",
    "version": 3
   },
   "file_extension": ".py",
   "mimetype": "text/x-python",
   "name": "python",
   "nbconvert_exporter": "python",
   "pygments_lexer": "ipython3",
   "version": "3.9.6"
  }
 },
 "nbformat": 4,
 "nbformat_minor": 2
}
