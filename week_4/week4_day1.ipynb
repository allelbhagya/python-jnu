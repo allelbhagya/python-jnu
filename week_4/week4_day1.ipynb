{
  "cells": [
    {
      "cell_type": "markdown",
      "metadata": {
        "id": "oZH0eb34SgIR"
      },
      "source": [
        "### 1. **Loops in Python**\n",
        "\n",
        "#### **For Loop**:\n",
        "A `for` loop repeats a block of code for each item in a list, tuple, or range.\n",
        "\n",
        "**Syntax**:\n",
        "```python\n",
        "for item in iterable:\n",
        "    # Do something with item\n",
        "```\n",
        "\n",
        "**Example**:\n",
        "```python\n",
        "# Print numbers from 1 to 5\n",
        "for i in range(1, 6):\n",
        "    print(i)\n",
        "```\n",
        "This prints:\n",
        "```\n",
        "1\n",
        "2\n",
        "3\n",
        "4\n",
        "5\n",
        "```"
      ]
    },
    {
      "cell_type": "code",
      "execution_count": 2,
      "metadata": {},
      "outputs": [],
      "source": [
        "l1 = [1,2,3,4,5]"
      ]
    },
    {
      "cell_type": "code",
      "execution_count": 4,
      "metadata": {
        "id": "Sch9uOrKShWT"
      },
      "outputs": [
        {
          "name": "stdout",
          "output_type": "stream",
          "text": [
            "1\n",
            "2\n",
            "3\n",
            "4\n",
            "5\n"
          ]
        }
      ],
      "source": [
        "for i in range(len(l1)):\n",
        "    print(l1[i])"
      ]
    },
    {
      "cell_type": "code",
      "execution_count": 6,
      "metadata": {},
      "outputs": [
        {
          "name": "stdout",
          "output_type": "stream",
          "text": [
            "apple\n",
            "banana\n",
            "scss\n",
            "1\n",
            "2\n",
            "5.6\n"
          ]
        }
      ],
      "source": [
        "l2 = [\"apple\",\"banana\", \"scss\", 1,2, 5.6]\n",
        "\n",
        "for i in l2:\n",
        "    print(i)"
      ]
    },
    {
      "cell_type": "markdown",
      "metadata": {
        "id": "il_5iXHLSxJS"
      },
      "source": [
        "#### **While Loop**:\n",
        "A `while` loop repeats as long as a condition is true.\n",
        "\n",
        "**Syntax**:\n",
        "```python\n",
        "while condition:\n",
        "    # Do something\n",
        "```\n",
        "\n",
        "**Example**:\n",
        "```python\n",
        "# Print numbers from 1 to 5\n",
        "i = 1\n",
        "while i <= 5:\n",
        "    print(i)\n",
        "    i += 1  # Increment i by 1\n",
        "```\n",
        "This prints:\n",
        "```\n",
        "1\n",
        "2\n",
        "3\n",
        "4\n",
        "5\n",
        "```\n",
        "\n",
        "---"
      ]
    },
    {
      "cell_type": "code",
      "execution_count": 7,
      "metadata": {
        "id": "KIX7f1sFSxq-"
      },
      "outputs": [
        {
          "name": "stdout",
          "output_type": "stream",
          "text": [
            "1\n",
            "2\n",
            "3\n",
            "4\n",
            "5\n",
            "6\n",
            "7\n",
            "8\n",
            "9\n",
            "10\n"
          ]
        }
      ],
      "source": [
        "x = 1\n",
        "while (x<=10):\n",
        "    print(x)\n",
        "    x=x+1"
      ]
    },
    {
      "cell_type": "markdown",
      "metadata": {
        "id": "1F14QaYgSkNs"
      },
      "source": [
        "\n",
        "\n",
        "### 2. **Break, Continue, Pass**\n",
        "\n",
        "- **Break**: Exits the loop completely.\n",
        "  \n",
        "**Example**:\n",
        "```python\n",
        "for i in range(1, 6):\n",
        "    if i == 3:\n",
        "        break  # Stop the loop if i is 3\n",
        "    print(i)\n",
        "```\n",
        "This prints:\n",
        "```\n",
        "1\n",
        "2\n",
        "```\n",
        "\n",
        "- **Continue**: Skips the current iteration and continues with the next.\n",
        "  \n",
        "**Example**:\n",
        "```python\n",
        "for i in range(1, 6):\n",
        "    if i == 3:\n",
        "        continue  # Skip printing 3\n",
        "    print(i)\n",
        "```\n",
        "This prints:\n",
        "```\n",
        "1\n",
        "2\n",
        "4\n",
        "5\n",
        "```\n",
        "\n",
        "- **Pass**: Does nothing, just a placeholder for future code.\n",
        "  \n",
        "**Example**:\n",
        "```python\n",
        "for i in range(1, 6):\n",
        "    if i == 3:\n",
        "        pass  # Do nothing when i is 3\n",
        "    print(i)\n",
        "```\n",
        "This prints:\n",
        "```\n",
        "1\n",
        "2\n",
        "3\n",
        "4\n",
        "5\n",
        "```\n",
        "\n",
        "---"
      ]
    },
    {
      "cell_type": "code",
      "execution_count": 14,
      "metadata": {},
      "outputs": [],
      "source": [
        "l1 = [10,11,12,13,14]"
      ]
    },
    {
      "cell_type": "code",
      "execution_count": 19,
      "metadata": {
        "id": "7UYqdkvuSk6Q"
      },
      "outputs": [
        {
          "name": "stdout",
          "output_type": "stream",
          "text": [
            "1\n",
            "3\n",
            "5\n",
            "7\n",
            "9\n",
            "11\n",
            "13\n",
            "15\n",
            "17\n",
            "19\n"
          ]
        }
      ],
      "source": [
        "for i in range(1,21):\n",
        "    if i%2!= 0:\n",
        "        print(i)"
      ]
    },
    {
      "cell_type": "markdown",
      "metadata": {
        "id": "NAErwOHBTAce"
      },
      "source": [
        "### Parameters and Arguments in Python Functions\n",
        "\n",
        "#### **Parameters**:\n",
        "- Parameters are variables listed inside the parentheses in the function definition. They act as placeholders that can accept values when the function is called.\n",
        "\n",
        "**Example**:\n",
        "```python\n",
        "def greet(name):  # 'name' is the parameter\n",
        "    print(\"Hello, \" + name)\n",
        "```\n",
        "\n",
        "In this example, `name` is a parameter. When we call the `greet` function, we will pass a value for `name`.\n",
        "\n",
        "#### **Arguments**:\n",
        "- Arguments are the actual values or data passed to a function when you call it. These values are assigned to the function's parameters.\n",
        "\n",
        "**Example**:\n",
        "```python\n",
        "greet(\"Alice\")  # 'Alice' is the argument\n",
        "```\n",
        "\n",
        "Here, `\"Alice\"` is the argument passed to the `greet` function, and it replaces the `name` parameter.\n",
        "\n",
        "#### **Multiple Parameters and Arguments**:\n",
        "Functions can have multiple parameters, and you pass arguments in the same order.\n",
        "\n",
        "**Example**:\n",
        "```python\n",
        "def add_numbers(a, b):  # 'a' and 'b' are parameters\n",
        "    return a + b\n",
        "\n",
        "result = add_numbers(3, 5)  # 3 and 5 are arguments\n",
        "print(result)  # Outputs: 8\n",
        "```\n",
        "\n",
        "### Key Points:\n",
        "- **Parameter**: Defined in the function (e.g., `name`, `a`, `b`).\n",
        "- **Argument**: The actual value provided when calling the function (e.g., `\"Alice\"`, `3`, `5`).\n"
      ]
    },
    {
      "cell_type": "code",
      "execution_count": null,
      "metadata": {
        "id": "WDB0LnvMTDuW"
      },
      "outputs": [],
      "source": []
    },
    {
      "cell_type": "markdown",
      "metadata": {
        "id": "RlVgKfR9SMyB"
      },
      "source": [
        "\n",
        "\n",
        "### 3. **Functions in Python**\n",
        "\n",
        "A function is a block of code that runs when you call it. You can pass data (parameters) to a function, and it can return a result.\n",
        "\n",
        "**Syntax**:\n",
        "```python\n",
        "def function_name(parameters):\n",
        "    # Code to run\n",
        "    return result\n",
        "```\n",
        "\n",
        "**Example**:\n",
        "```python\n",
        "# Function to add two numbers\n",
        "def add_numbers(a, b):\n",
        "    return a + b\n",
        "\n",
        "result = add_numbers(3, 4)\n",
        "print(result)  # Outputs: 7\n",
        "```"
      ]
    },
    {
      "cell_type": "code",
      "execution_count": 23,
      "metadata": {
        "id": "_ZNBcdr1R3nm"
      },
      "outputs": [
        {
          "name": "stdout",
          "output_type": "stream",
          "text": [
            "P\n",
            "y\n",
            "t\n",
            "h\n",
            "o\n",
            "n\n"
          ]
        }
      ],
      "source": [
        "for letter in \"Python\":\n",
        "    print(letter)\n"
      ]
    }
  ],
  "metadata": {
    "colab": {
      "provenance": []
    },
    "kernelspec": {
      "display_name": "Python 3",
      "name": "python3"
    },
    "language_info": {
      "codemirror_mode": {
        "name": "ipython",
        "version": 3
      },
      "file_extension": ".py",
      "mimetype": "text/x-python",
      "name": "python",
      "nbconvert_exporter": "python",
      "pygments_lexer": "ipython3",
      "version": "3.9.6"
    }
  },
  "nbformat": 4,
  "nbformat_minor": 0
}
